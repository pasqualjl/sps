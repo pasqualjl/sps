{
 "cells": [
  {
   "cell_type": "code",
   "execution_count": null,
   "metadata": {},
   "outputs": [],
   "source": [
    "import pandas as pd\n",
    "import matplotlib.pyplot as plt"
   ]
  },
  {
   "cell_type": "code",
   "execution_count": null,
   "metadata": {
    "scrolled": false
   },
   "outputs": [],
   "source": [
    "rr = pd.read_csv(\"../spsdata/roadrunner.csv\")\n",
    "clean = rr[rr[\"round\"] != \"warmup\"]"
   ]
  },
  {
   "cell_type": "code",
   "execution_count": null,
   "metadata": {},
   "outputs": [],
   "source": [
    "noprobs = clean[clean[\"mabc_binary_score\"] == 0]"
   ]
  },
  {
   "cell_type": "code",
   "execution_count": 9,
   "metadata": {},
   "outputs": [
    {
     "name": "stdout",
     "output_type": "stream",
     "text": [
      "Kids with no fine motor skills problems:\n",
      "\n",
      "Mean of jerk: 1.57260308877\n",
      "Mean of acceleration: 9.76735986693\n",
      "Mean of costheta: 0.826624670792\n",
      "Variance of jerk: 3.81560658853\n",
      "Variance of acceleration: 0.175539397098\n",
      "Variance of costheta: 0.045394401657\n"
     ]
    }
   ],
   "source": [
    "mjerk0 = noprobs[\"jerk\"].mean()\n",
    "macc0 = noprobs[\"acc\"].mean()\n",
    "mcostheta0 = noprobs[\"costheta\"].mean()\n",
    "vjerk0 = noprobs[\"jerk\"].var()\n",
    "vacc0 = noprobs[\"acc\"].var()\n",
    "vcostheta0 = noprobs[\"costheta\"].var()\n",
    "print(\"Kids with no fine motor skills problems:\\n\")\n",
    "print(\"Mean of jerk: {}\".format(mjerk0))\n",
    "print(\"Mean of acceleration: {}\".format(macc0))\n",
    "print(\"Mean of costheta: {}\".format(mcostheta0))\n",
    "print(\"Variance of jerk: {}\".format(vjerk0))\n",
    "print(\"Variance of acceleration: {}\".format(vacc0))\n",
    "print(\"Variance of costheta: {}\".format(vcostheta0))"
   ]
  },
  {
   "cell_type": "code",
   "execution_count": 6,
   "metadata": {},
   "outputs": [],
   "source": [
    "probs = clean[clean[\"mabc_binary_score\"] == 1]"
   ]
  },
  {
   "cell_type": "code",
   "execution_count": 10,
   "metadata": {},
   "outputs": [
    {
     "name": "stdout",
     "output_type": "stream",
     "text": [
      "Kids with fine motor skills problems:\n",
      "\n",
      "Mean of jerk: 1.63608224209\n",
      "Mean of acceleration: 9.75603166279\n",
      "Mean of costheta: 0.773176191018\n",
      "Variance of jerk: 4.59023885092\n",
      "Variance of acceleration: 0.186154929647\n",
      "Variance of costheta: 0.0764082927118\n"
     ]
    }
   ],
   "source": [
    "mjerk1 = probs[\"jerk\"].mean()\n",
    "macc1 = probs[\"acc\"].mean()\n",
    "mcostheta1 = probs[\"costheta\"].mean()\n",
    "vjerk1 = probs[\"jerk\"].var()\n",
    "vacc1 = probs[\"acc\"].var()\n",
    "vcostheta1 = probs[\"costheta\"].var()\n",
    "print(\"Kids with fine motor skills problems:\\n\")\n",
    "print(\"Mean of jerk: {}\".format(mjerk1))\n",
    "print(\"Mean of acceleration: {}\".format(macc1))\n",
    "print(\"Mean of costheta: {}\".format(mcostheta1))\n",
    "print(\"Variance of jerk: {}\".format(vjerk1))\n",
    "print(\"Variance of acceleration: {}\".format(vacc1))\n",
    "print(\"Variance of costheta: {}\".format(vcostheta1))"
   ]
  },
  {
   "cell_type": "code",
   "execution_count": null,
   "metadata": {},
   "outputs": [],
   "source": [
    "clean"
   ]
  },
  {
   "cell_type": "code",
   "execution_count": null,
   "metadata": {},
   "outputs": [],
   "source": [
    "acceleration = []\n",
    "jerk = []\n",
    "costheta = []\n",
    "labels = []\n",
    "for i in rr.ID.unique():\n",
    "    acceleration.append(rr[rr.ID == i][\"acc\"].mean())\n",
    "    jerk.append(rr[rr.ID == i][\"jerk\"].mean())\n",
    "    costheta.append(rr[rr.ID == i][\"costheta\"].mean())\n",
    "    labels.append(rr[rr.ID == i][\"mabc_binary_score\"].mean())\n",
    "plt.scatter(acceleration, jerk, c=[\"red\" if label == 0 else \"blue\" for label in labels])\n",
    "plt.xlabel(\"acceleration\")\n",
    "plt.ylabel(\"jerk\")\n",
    "plt.show()\n",
    "plt.scatter(costheta, acceleration, c=[\"red\" if label == 0 else \"blue\" for label in labels])\n",
    "plt.xlabel(\"costheta\")\n",
    "plt.ylabel(\"acceleraion\")\n",
    "plt.show()\n",
    "plt.scatter(costheta, jerk, c=[\"red\" if label == 0 else \"blue\" for label in labels])\n",
    "plt.xlabel(\"costheta\")\n",
    "plt.ylabel(\"jerk\")\n",
    "plt.show()"
   ]
  },
  {
   "cell_type": "code",
   "execution_count": null,
   "metadata": {},
   "outputs": [],
   "source": []
  }
 ],
 "metadata": {
  "kernelspec": {
   "display_name": "Python 3",
   "language": "python",
   "name": "python3"
  },
  "language_info": {
   "codemirror_mode": {
    "name": "ipython",
    "version": 3
   },
   "file_extension": ".py",
   "mimetype": "text/x-python",
   "name": "python",
   "nbconvert_exporter": "python",
   "pygments_lexer": "ipython3",
   "version": "3.7.1"
  }
 },
 "nbformat": 4,
 "nbformat_minor": 2
}
