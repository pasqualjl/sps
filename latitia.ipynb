{
 "cells": [
  {
   "cell_type": "code",
   "execution_count": null,
   "metadata": {},
   "outputs": [],
   "source": [
    "import pandas as pd\n",
    "import matplotlib.pyplot as plt"
   ]
  },
  {
   "cell_type": "code",
   "execution_count": null,
   "metadata": {
    "scrolled": false
   },
   "outputs": [],
   "source": [
    "rr = pd.read_csv(\"spsdata/roadrunner.csv\")\n",
    "clean = rr[rr[\"round\"] != \"warmup\"]"
   ]
  },
  {
   "cell_type": "code",
   "execution_count": null,
   "metadata": {},
   "outputs": [],
   "source": [
    "rr.ID.unique()"
   ]
  },
  {
   "cell_type": "code",
   "execution_count": null,
   "metadata": {},
   "outputs": [],
   "source": [
    "clean"
   ]
  },
  {
   "cell_type": "code",
   "execution_count": null,
   "metadata": {},
   "outputs": [],
   "source": [
    "acceleration = []\n",
    "jerk = []\n",
    "costheta = []\n",
    "labels = []\n",
    "for i in rr.ID.unique():\n",
    "    acceleration.append(rr[rr.ID == i][\"acc\"].mean())\n",
    "    jerk.append(rr[rr.ID == i][\"jerk\"].mean())\n",
    "    costheta.append(rr[rr.ID == i][\"costheta\"].mean())\n",
    "    labels.append(rr[rr.ID == i][\"mabc_binary_score\"].mean())\n",
    "plt.scatter(acceleration, jerk, c=[\"red\" if label == 0 else \"blue\" for label in labels])\n",
    "plt.xlabel(\"acceleration\")\n",
    "plt.ylabel(\"jerk\")\n",
    "plt.show()\n",
    "plt.scatter(costheta, acceleration, c=[\"red\" if label == 0 else \"blue\" for label in labels])\n",
    "plt.xlabel(\"costheta\")\n",
    "plt.ylabel(\"acceleraion\")\n",
    "plt.show()\n",
    "plt.scatter(costheta, jerk, c=[\"red\" if label == 0 else \"blue\" for label in labels])\n",
    "plt.xlabel(\"costheta\")\n",
    "plt.ylabel(\"jerk\")\n",
    "plt.show()"
   ]
  },
  {
   "cell_type": "code",
   "execution_count": null,
   "metadata": {},
   "outputs": [],
   "source": []
  }
 ],
 "metadata": {
  "kernelspec": {
   "display_name": "Python 3",
   "language": "python",
   "name": "python3"
  },
  "language_info": {
   "codemirror_mode": {
    "name": "ipython",
    "version": 3
   },
   "file_extension": ".py",
   "mimetype": "text/x-python",
   "name": "python",
   "nbconvert_exporter": "python",
   "pygments_lexer": "ipython3",
   "version": "3.7.1"
  }
 },
 "nbformat": 4,
 "nbformat_minor": 2
}
