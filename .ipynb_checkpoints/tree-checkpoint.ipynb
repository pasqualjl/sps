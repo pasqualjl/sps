{
 "cells": [
  {
   "cell_type": "markdown",
   "metadata": {},
   "source": [
    "# Decision Trees"
   ]
  },
  {
   "cell_type": "code",
   "execution_count": 1,
   "metadata": {},
   "outputs": [],
   "source": [
    "import numpy as np\n",
    "import pandas as pd\n",
    "import sklearn\n",
    "from sklearn.model_selection import train_test_split\n",
    "from sklearn.tree import DecisionTreeClassifier\n",
    "from sklearn.metrics import accuracy_score\n",
    "from sklearn import tree\n",
    "from sklearn.externals.six import StringIO\n",
    "import pydot"
   ]
  },
  {
   "cell_type": "markdown",
   "metadata": {},
   "source": [
    "### Read Data"
   ]
  },
  {
   "cell_type": "code",
   "execution_count": 2,
   "metadata": {},
   "outputs": [],
   "source": [
    "# means per kid: sensordata\n",
    "\n",
    "data = pd.read_csv(\"new.csv\")"
   ]
  },
  {
   "cell_type": "code",
   "execution_count": 3,
   "metadata": {},
   "outputs": [],
   "source": [
    "# means per kid: sensordata, age, gender\n",
    "\n",
    "data2 = pd.read_csv(\"../spsdata/test.csv\")"
   ]
  },
  {
   "cell_type": "code",
   "execution_count": 4,
   "metadata": {},
   "outputs": [],
   "source": [
    "# all rows: sensordata\n",
    "\n",
    "data3 = pd.read_csv(\"../spsdata/new_all.csv\")"
   ]
  },
  {
   "cell_type": "code",
   "execution_count": 5,
   "metadata": {},
   "outputs": [],
   "source": [
    "# all rows: sensordata, age, gender\n",
    "\n",
    "df = pd.read_csv(\"../spsdata/roadrunner.csv\")\n",
    "clean = df.drop(columns=[\"index_runner\",\"side_runner\",\"square_runner\",\"python_tijd\",\"spel\",\"permutation\",\"round\",\"level\",\"times_level_played_before\",\"snelheid\",\"mabc_percentile_score\"])\n",
    "data4 = clean.round({\"age_precise\": 0})"
   ]
  },
  {
   "cell_type": "markdown",
   "metadata": {},
   "source": [
    "### Create File"
   ]
  },
  {
   "cell_type": "code",
   "execution_count": 53,
   "metadata": {},
   "outputs": [],
   "source": [
    "df = pd.DataFrame({\"ID\": [],\"acc\": [],\"ax_f\": [],\"ay_f\": [],\"az_f\": [],\"costheta\": [],\"jerk\": [],\"label\": [],\"gender\": [],\"age_precise\": []})\n",
    "for i in clean.ID.unique():\n",
    "    row = data4[data4[\"ID\"] == i].mean()\n",
    "    df = df.append(row, ignore_index = True)\n",
    "with open('../spsdata/test.csv', 'w') as f:\n",
    "    df.to_csv(f, header=True, index=None)"
   ]
  },
  {
   "cell_type": "markdown",
   "metadata": {},
   "source": [
    "## Decision Tree Means"
   ]
  },
  {
   "cell_type": "code",
   "execution_count": 7,
   "metadata": {},
   "outputs": [],
   "source": [
    "# decision tree\n",
    "\n",
    "def decision_tree(data):\n",
    "    #print(\"\\n\\nsplitting...\")\n",
    "    xtrain, xtest, ytrain, ytest = train_test_split(data.drop(columns=[\"ID\",\"label\"]), data[\"label\"])\n",
    "    #print(\"making tree...\")\n",
    "    dtree = DecisionTreeClassifier()\n",
    "    #print(\"training tree...\")\n",
    "    dtree.fit(xtrain, ytrain)\n",
    "    #print(\"getting predictions...\")\n",
    "    ypred = dtree.predict(xtest)\n",
    "    #print(\"calculating accuracy...\\n\")\n",
    "    acc = accuracy_score(ytest,ypred)\n",
    "    print(\"drawing tree...\\n\")\n",
    "    dot_data = StringIO()\n",
    "    tree.export_graphviz(dtree, out_file=dot_data, feature_names=list(data)[1:-1], class_names=[\"0\",\"1\"], label=\"root\")\n",
    "    graph = pydot.graph_from_dot_data(dot_data.getvalue())\n",
    "    graph[0].write_pdf(\"test.pdf\")\n",
    "    return acc * 100"
   ]
  },
  {
   "cell_type": "code",
   "execution_count": 42,
   "metadata": {
    "scrolled": false
   },
   "outputs": [
    {
     "name": "stdout",
     "output_type": "stream",
     "text": [
      "drawing tree...\n",
      "\n"
     ]
    },
    {
     "data": {
      "text/plain": [
       "58.333333333333336"
      ]
     },
     "execution_count": 42,
     "metadata": {},
     "output_type": "execute_result"
    }
   ],
   "source": [
    "decision_tree(data2)"
   ]
  },
  {
   "cell_type": "code",
   "execution_count": 48,
   "metadata": {},
   "outputs": [],
   "source": [
    "# run decision tree n times\n",
    "# gives average accuracy\n",
    "\n",
    "def run(n, data):\n",
    "    total = 0\n",
    "    for i in range(n):\n",
    "        score = decision_tree(data)\n",
    "        #print(\"{} %\".format(round(score, 2)))\n",
    "        total += score\n",
    "    print(\"Average accuracy is {} %\".format(total/float(n)))"
   ]
  },
  {
   "cell_type": "markdown",
   "metadata": {},
   "source": [
    "## Decision Tree All Rows"
   ]
  },
  {
   "cell_type": "code",
   "execution_count": 22,
   "metadata": {
    "scrolled": false
   },
   "outputs": [],
   "source": [
    "# split, ratio is test size\n",
    "\n",
    "def split(data, ratio):\n",
    "    ugh = []\n",
    "    for i in data.ID.unique():\n",
    "        ugh.append(data[data[\"ID\"] == i])\n",
    "    np.random.shuffle(ugh)\n",
    "    trainlist = ugh[int(len(ugh)*ratio):]\n",
    "    testlist = ugh[:int(len(ugh)*ratio)]\n",
    "    train = pd.DataFrame(dict((col,[]) for col in list(data)))\n",
    "    test = pd.DataFrame(dict((col,[]) for col in list(data)))\n",
    "    for item in trainlist:\n",
    "        train = train.append(item, ignore_index = True)\n",
    "    xtrain = train.drop(columns=[\"ID\",\"label\"])\n",
    "    ytrain = train[\"label\"]\n",
    "    for item in testlist:\n",
    "        test = test.append(item, ignore_index = True)\n",
    "    xtest = test.drop(columns=[\"ID\",\"label\"])\n",
    "    ytest = test.set_index(\"ID\")[\"label\"]\n",
    "    return xtrain, xtest, ytrain, ytest\n",
    "\n",
    "#print(split(data4, 0.3))"
   ]
  },
  {
   "cell_type": "code",
   "execution_count": 51,
   "metadata": {},
   "outputs": [],
   "source": [
    "# decision tree complex\n",
    "\n",
    "def decision_tree_complex(data, ratio=0.1):\n",
    "    #print(\"splitting...\")\n",
    "    #xtrain, xtest, ytrain, ytest = train_test_split(data.drop(columns=[\"label\"]), data[\"label\"], test_size=0.5)\n",
    "    xtrain, xtest, ytrain, ytest = split(data, ratio)\n",
    "    with open(\"../spsdata/hype.csv\", \"w\") as f:\n",
    "        ytest.to_csv(f, header=True, index=True)\n",
    "    foo = pd.read_csv(\"../spsdata/hype.csv\")\n",
    "    #print(\"making tree...\")\n",
    "    dtree = DecisionTreeClassifier()\n",
    "    #print(\"training tree...\")\n",
    "    dtree.fit(xtrain, ytrain)\n",
    "    #print(\"getting predictions...\")\n",
    "    ypred = dtree.predict(xtest)\n",
    "    #print(ypred)\n",
    "    se = pd.Series(ypred)\n",
    "    foo['predict'] = se.values\n",
    "    #print(foo)\n",
    "    labels = []\n",
    "    predicts = []\n",
    "    for i in foo.ID.unique():\n",
    "        label = foo[foo[\"ID\"] == i][\"label\"].mean()\n",
    "        labels.append(label)\n",
    "        predict = foo[foo[\"ID\"] == i][\"predict\"].mean()\n",
    "        predicts.append(predict)\n",
    "    #print([(labels[i], predicts[i]) for i in range(len(labels))])\n",
    "    #print([(labels[i], round(predicts[i])) for i in range(len(labels))])\n",
    "    with open(\"../spsdata/hype.csv\", \"w\") as f:\n",
    "        foo.to_csv(f, header=True, index=None)\n",
    "    #print(\"calculating accuracy...\\n\")\n",
    "    acc = accuracy_score(labels,[round(predict) for predict in predicts])\n",
    "    #print(\"drawing tree...\\n\")\n",
    "    #dot_data = StringIO()\n",
    "    #tree.export_graphviz(dtree, out_file=dot_data, feature_names=list(data)[1:-1], class_names=[\"0\",\"1\"], label=\"root\")\n",
    "    #graph = pydot.graph_from_dot_data(dot_data.getvalue())\n",
    "    #graph.write_pdf(\"test.pdf\")\n",
    "    #acc = accuracy_score(ytest, ypred)\n",
    "    return acc * 100"
   ]
  },
  {
   "cell_type": "code",
   "execution_count": 47,
   "metadata": {
    "scrolled": false
   },
   "outputs": [
    {
     "name": "stdout",
     "output_type": "stream",
     "text": [
      "splitting...\n",
      "making tree...\n",
      "training tree...\n",
      "getting predictions...\n",
      "calculating accuracy...\n",
      "\n"
     ]
    },
    {
     "data": {
      "text/plain": [
       "55.55555555555556"
      ]
     },
     "execution_count": 47,
     "metadata": {},
     "output_type": "execute_result"
    }
   ],
   "source": [
    "decision_tree_complex(data3)"
   ]
  },
  {
   "cell_type": "code",
   "execution_count": 49,
   "metadata": {},
   "outputs": [],
   "source": [
    "# run decision tree n times\n",
    "# gives average accuracy\n",
    "\n",
    "def run_complex(n, data):\n",
    "    total = 0\n",
    "    for i in range(n):\n",
    "        score = decision_tree_complex(data)\n",
    "        print(\"{} %\".format(round(score, 2)))\n",
    "        total += score\n",
    "    print(\"Average accuracy is {} %\".format(total/float(n)))"
   ]
  },
  {
   "cell_type": "code",
   "execution_count": 54,
   "metadata": {
    "scrolled": false
   },
   "outputs": [
    {
     "name": "stdout",
     "output_type": "stream",
     "text": [
      "22.22 %\n",
      "66.67 %\n",
      "44.44 %\n",
      "66.67 %\n",
      "66.67 %\n",
      "55.56 %\n",
      "22.22 %\n",
      "33.33 %\n",
      "66.67 %\n",
      "44.44 %\n",
      "Average accuracy is 48.8888888889 %\n"
     ]
    }
   ],
   "source": [
    "run_complex(10, data3)"
   ]
  }
 ],
 "metadata": {
  "kernelspec": {
   "display_name": "Python 3",
   "language": "python",
   "name": "python3"
  },
  "language_info": {
   "codemirror_mode": {
    "name": "ipython",
    "version": 2
   },
   "file_extension": ".py",
   "mimetype": "text/x-python",
   "name": "python",
   "nbconvert_exporter": "python",
   "pygments_lexer": "ipython2",
   "version": "2.7.12"
  }
 },
 "nbformat": 4,
 "nbformat_minor": 2
}
