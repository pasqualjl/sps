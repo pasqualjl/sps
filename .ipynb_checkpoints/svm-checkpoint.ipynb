{
 "cells": [
  {
   "cell_type": "code",
   "execution_count": 1,
   "metadata": {},
   "outputs": [],
   "source": [
    "import numpy as np\n",
    "import pandas as pd\n",
    "from sklearn.svm import LinearSVC"
   ]
  },
  {
   "cell_type": "code",
   "execution_count": 2,
   "metadata": {},
   "outputs": [],
   "source": [
    "from sklearn.model_selection import train_test_split\n",
    "from sklearn.metrics import accuracy_score\n",
    "from sklearn.datasets import make_classification"
   ]
  },
  {
   "cell_type": "code",
   "execution_count": 44,
   "metadata": {},
   "outputs": [],
   "source": [
    "import time"
   ]
  },
  {
   "cell_type": "code",
   "execution_count": 3,
   "metadata": {},
   "outputs": [],
   "source": [
    "# means per kid: sensordata\n",
    "data = pd.read_csv(\"../spsdata/new.csv\")"
   ]
  },
  {
   "cell_type": "code",
   "execution_count": 4,
   "metadata": {},
   "outputs": [],
   "source": [
    "# means per kid: sensordata, age, gender\n",
    "data2 = pd.read_csv(\"../spsdata/test.csv\")"
   ]
  },
  {
   "cell_type": "code",
   "execution_count": 5,
   "metadata": {},
   "outputs": [],
   "source": [
    "# all rows: sensordata\n",
    "data3 = pd.read_csv(\"../spsdata/new_all.csv\")"
   ]
  },
  {
   "cell_type": "code",
   "execution_count": 6,
   "metadata": {},
   "outputs": [],
   "source": [
    "# all rows: sensordata, age, gender\n",
    "data4 = pd.read_csv(\"../spsdata/test_all.csv\")"
   ]
  },
  {
   "cell_type": "code",
   "execution_count": 7,
   "metadata": {},
   "outputs": [],
   "source": [
    "#splits per kid\n",
    "\n",
    "def split(data, ratio):\n",
    "    ugh = []\n",
    "    for i in data.ID.unique():\n",
    "        ugh.append(data[data[\"ID\"] == i])\n",
    "    np.random.shuffle(ugh)\n",
    "    trainlist = ugh[int(len(ugh)*ratio):]\n",
    "    testlist = ugh[:int(len(ugh)*ratio)]\n",
    "    train = pd.DataFrame(dict((col,[]) for col in list(data)))\n",
    "    test = pd.DataFrame(dict((col,[]) for col in list(data)))\n",
    "    for item in trainlist:\n",
    "        train = train.append(item, ignore_index = True)\n",
    "    xtrain = train.drop(columns=[\"ID\",\"label\"])\n",
    "    ytrain = train[\"label\"]\n",
    "    for item in testlist:\n",
    "        test = test.append(item, ignore_index = True)\n",
    "    xtest = test.drop(columns=[\"ID\",\"label\"])\n",
    "    ytest = test.set_index(\"ID\")[\"label\"]\n",
    "    return xtrain, xtest, ytrain, ytest\n",
    "\n",
    "#print(split(data4, 0.3))"
   ]
  },
  {
   "cell_type": "code",
   "execution_count": 86,
   "metadata": {},
   "outputs": [],
   "source": [
    "def linear_svm(data, ratio=0.2):\n",
    "    #print(\"splitting...\\n\")\n",
    "    xtrain, xtest, ytrain, ytest = split(data, ratio)\n",
    "    clf = LinearSVC(random_state=0, tol=1e-5, dual=False)\n",
    "    #print(\"fitting...\\n\")\n",
    "    clf.fit(xtrain, ytrain)\n",
    "    #print(\"getting predictions...\\n\")\n",
    "    ypred = clf.predict(xtest)\n",
    "    #print(\"calculating accuracy...\\n\")\n",
    "    acc = accuracy_score(ytest,ypred)\n",
    "    return acc * 100"
   ]
  },
  {
   "cell_type": "code",
   "execution_count": 87,
   "metadata": {},
   "outputs": [],
   "source": [
    "def linear_svm_complex(data, ratio=0.2):\n",
    "    #print(\"splitting...\\n\")\n",
    "    xtrain, xtest, ytrain, ytest = split(data, ratio)\n",
    "    with open(\"../spsdata/hype.csv\", \"w\") as f:\n",
    "        ytest.to_csv(f, header=True, index=True)\n",
    "    foo = pd.read_csv(\"../spsdata/hype.csv\")\n",
    "    clf = LinearSVC(random_state=0, tol=1e-5, dual=False)\n",
    "    #print(\"fitting...\\n\")\n",
    "    clf.fit(xtrain, ytrain)\n",
    "    #print(\"getting predictions...\\n\")\n",
    "    ypred = clf.predict(xtest)\n",
    "    se = pd.Series(ypred)\n",
    "    foo['predict'] = se.values\n",
    "    labels = []\n",
    "    predicts = []\n",
    "    for i in foo.ID.unique():\n",
    "        label = foo[foo[\"ID\"] == i][\"label\"].mean()\n",
    "        labels.append(label)\n",
    "        predict = foo[foo[\"ID\"] == i][\"predict\"].mean()\n",
    "        predicts.append(predict)\n",
    "    with open(\"../spsdata/hype.csv\", \"w\") as f:\n",
    "        foo.to_csv(f, header=True, index=None)\n",
    "    #print(\"calculating accuracy...\\n\")\n",
    "    acc = accuracy_score(labels,[round(predict) for predict in predicts])\n",
    "    #acc = accuracy_score(ytest,ypred)\n",
    "    return acc * 100"
   ]
  },
  {
   "cell_type": "code",
   "execution_count": 88,
   "metadata": {},
   "outputs": [
    {
     "name": "stdout",
     "output_type": "stream",
     "text": [
      "60.71428571428571\n"
     ]
    }
   ],
   "source": [
    "print(linear_svm_complex(data2, 0.3))"
   ]
  },
  {
   "cell_type": "code",
   "execution_count": 92,
   "metadata": {},
   "outputs": [],
   "source": [
    "# run svm n times\n",
    "# gives average accuracy\n",
    "\n",
    "def linear_run(data, ratio, n=10):\n",
    "    total = 0\n",
    "    start = time.time()\n",
    "    for i in range(n):\n",
    "        score = linear_svm(data, ratio)\n",
    "        #print(\"{} %\".format(round(score, 2)))\n",
    "        total += score\n",
    "    print(\"Average accuracy is {} %\".format(total/float(n)))\n",
    "    return \"This took \" + str(round((time.time() - start), 2)) + \" seconds.\""
   ]
  },
  {
   "cell_type": "code",
   "execution_count": 93,
   "metadata": {},
   "outputs": [],
   "source": [
    "# run svm n times\n",
    "# gives average accuracy\n",
    "\n",
    "def linear_run_complex(data, ratio, n=10):\n",
    "    total = 0\n",
    "    start = time.time()\n",
    "    for i in range(n):\n",
    "        score = linear_svm_complex(data, ratio)\n",
    "        print(\"{} %\".format(round(score, 2)))\n",
    "        total += score\n",
    "    print(\"Average accuracy is {} %\".format(total/float(n)))\n",
    "    return \"This took \" + str(round((time.time() - start), 2)) + \" seconds.\""
   ]
  },
  {
   "cell_type": "code",
   "execution_count": 94,
   "metadata": {
    "scrolled": false
   },
   "outputs": [
    {
     "name": "stdout",
     "output_type": "stream",
     "text": [
      "Average accuracy is 49.536140734476604 %\n",
      "This took 79.88 seconds.\n"
     ]
    }
   ],
   "source": [
    "print(linear_run(data3, 0.3))"
   ]
  },
  {
   "cell_type": "code",
   "execution_count": 74,
   "metadata": {},
   "outputs": [
    {
     "name": "stdout",
     "output_type": "stream",
     "text": [
      "53.57 %\n",
      "39.29 %\n",
      "39.29 %\n",
      "50.0 %\n",
      "60.71 %\n",
      "42.86 %\n",
      "39.29 %\n",
      "57.14 %\n",
      "42.86 %\n",
      "35.71 %\n",
      "Average accuracy is 46.07142857142857 %\n",
      "This took 161.52 seconds.\n"
     ]
    }
   ],
   "source": [
    "print(linear_run_complex(data3, 0.3))"
   ]
  },
  {
   "cell_type": "code",
   "execution_count": 78,
   "metadata": {},
   "outputs": [
    {
     "name": "stdout",
     "output_type": "stream",
     "text": [
      "Average accuracy is 57.45714285714281 %\n",
      "This took 34.64 seconds.\n"
     ]
    }
   ],
   "source": [
    "print(linear_run(data2, 0.3, n=500))"
   ]
  }
 ],
 "metadata": {
  "kernelspec": {
   "display_name": "Python 3",
   "language": "python",
   "name": "python3"
  },
  "language_info": {
   "codemirror_mode": {
    "name": "ipython",
    "version": 3
   },
   "file_extension": ".py",
   "mimetype": "text/x-python",
   "name": "python",
   "nbconvert_exporter": "python",
   "pygments_lexer": "ipython3",
   "version": "3.7.1"
  }
 },
 "nbformat": 4,
 "nbformat_minor": 2
}
