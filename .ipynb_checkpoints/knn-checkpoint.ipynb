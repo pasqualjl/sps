{
 "cells": [
  {
   "cell_type": "code",
   "execution_count": 198,
   "metadata": {},
   "outputs": [],
   "source": [
    "import math\n",
    "import random\n",
    "import pandas as pd\n",
    "import matplotlib.pylab as plt\n",
    "import numpy as np\n",
    "from sklearn.model_selection import train_test_split\n",
    "import operator"
   ]
  },
  {
   "cell_type": "code",
   "execution_count": 199,
   "metadata": {},
   "outputs": [],
   "source": [
    "data = pd.read_csv(\"new.csv\")"
   ]
  },
  {
   "cell_type": "code",
   "execution_count": 200,
   "metadata": {},
   "outputs": [],
   "source": [
    "acc = 1\n",
    "ax_f = 2\n",
    "ay_f = 3\n",
    "az_f = 4\n",
    "costheta = 5\n",
    "jerk = 6\n",
    "label = 7"
   ]
  },
  {
   "cell_type": "code",
   "execution_count": 201,
   "metadata": {},
   "outputs": [],
   "source": [
    "# compute distance between points\n",
    "def distance(a, b):\n",
    "    if type(a) == list:\n",
    "        temp = 0\n",
    "        for i in range(len(a)):\n",
    "            temp += (a[i] - b[i])**2\n",
    "    else:\n",
    "        temp = (a - b)**2\n",
    "    return math.sqrt(temp)"
   ]
  },
  {
   "cell_type": "code",
   "execution_count": 221,
   "metadata": {},
   "outputs": [],
   "source": [
    "# compute k-nearest neighbours\n",
    "def neighbours(train, point, k, var):\n",
    "    distances = []\n",
    "    for x in range(len(train)):\n",
    "        totaldis = 0\n",
    "        for y in var:\n",
    "            dis = y[1] * distance(point[y[0]], train.iloc[x][y[0]])\n",
    "            totaldis += dis\n",
    "        distances.append((train.iloc[x], totaldis))\n",
    "    distances.sort(key=operator.itemgetter(1))\n",
    "    neighbors = []\n",
    "    for x in range(k):\n",
    "        neighbors.append(distances[x][0])\n",
    "    return neighbors\n",
    "\n",
    "# print(neighbours(train, test.iloc[0], 3))"
   ]
  },
  {
   "cell_type": "code",
   "execution_count": 203,
   "metadata": {},
   "outputs": [],
   "source": [
    "# get label\n",
    "def label(train, point, k, var):\n",
    "    n = neighbours(train, point, k, var)\n",
    "    s = 0\n",
    "    for i in range(len(n)):\n",
    "        s += n[i][7]\n",
    "    if s / float(len(n)) > 0.5:\n",
    "        return 1\n",
    "    else:\n",
    "        return 0\n",
    "    \n",
    "# print(label(train, test.iloc[0], 3))"
   ]
  },
  {
   "cell_type": "code",
   "execution_count": 204,
   "metadata": {},
   "outputs": [],
   "source": [
    "# get score\n",
    "def score(train, test, k, var):\n",
    "    t = 0\n",
    "    for i in range(len(test)):\n",
    "        predict = label(train, test.iloc[i], k, var)\n",
    "        true = test.iloc[i][7]\n",
    "        if predict == true:\n",
    "            t += 1\n",
    "    return t / float(len(test))\n",
    "\n",
    "# print(score(train, test, 3))"
   ]
  },
  {
   "cell_type": "code",
   "execution_count": 222,
   "metadata": {},
   "outputs": [],
   "source": [
    "def k_nearest_neighbours(data, split, k, n, var):\n",
    "    total = 0\n",
    "    for i in range(n):\n",
    "        train, test = train_test_split(data, test_size=split)\n",
    "        s = score(train, test, k, var)\n",
    "        total += s\n",
    "        print(s)\n",
    "    return \"Mean is \" + str(total/float(n))"
   ]
  },
  {
   "cell_type": "code",
   "execution_count": 228,
   "metadata": {},
   "outputs": [
    {
     "name": "stdout",
     "output_type": "stream",
     "text": [
      "0.48275862069\n",
      "0.48275862069\n",
      "0.48275862069\n",
      "0.620689655172\n",
      "0.551724137931\n",
      "0.448275862069\n",
      "0.48275862069\n",
      "0.655172413793\n",
      "0.448275862069\n",
      "0.413793103448\n",
      "Mean is 0.506896551724\n",
      "0.620689655172\n",
      "0.655172413793\n",
      "0.551724137931\n",
      "0.551724137931\n",
      "0.689655172414\n",
      "0.51724137931\n",
      "0.586206896552\n",
      "0.448275862069\n",
      "0.551724137931\n",
      "0.620689655172\n",
      "Mean is 0.579310344828\n"
     ]
    }
   ],
   "source": [
    "print(k_nearest_neighbours(data, 0.3, 7, 10, [(costheta, 0.6), (jerk, 0.4)]))\n",
    "print(k_nearest_neighbours(data, 0.3, 7, 10, [(costheta, 1)]))\n"
   ]
  }
 ],
 "metadata": {
  "kernelspec": {
   "display_name": "Python 3",
   "language": "python",
   "name": "python3"
  },
  "language_info": {
   "codemirror_mode": {
    "name": "ipython",
    "version": 2
   },
   "file_extension": ".py",
   "mimetype": "text/x-python",
   "name": "python",
   "nbconvert_exporter": "python",
   "pygments_lexer": "ipython2",
   "version": "2.7.12"
  }
 },
 "nbformat": 4,
 "nbformat_minor": 2
}
