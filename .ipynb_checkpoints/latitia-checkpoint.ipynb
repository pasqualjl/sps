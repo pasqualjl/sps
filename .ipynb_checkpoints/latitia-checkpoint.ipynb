{
 "cells": [
  {
   "cell_type": "code",
   "execution_count": 2,
   "metadata": {},
   "outputs": [],
   "source": [
    "import pandas as pd\n",
    "import matplotlib.pyplot as plt"
   ]
  },
  {
   "cell_type": "markdown",
   "metadata": {},
   "source": [
    "## Data"
   ]
  },
  {
   "cell_type": "code",
   "execution_count": 3,
   "metadata": {
    "scrolled": false
   },
   "outputs": [],
   "source": [
    "#rr = pd.read_csv(\"../spsdata/roadrunner.csv\")\n",
    "#clean = rr[rr[\"round\"] != \"warmup\"]\n",
    "#with open(\"../spsdata/all.csv\", \"w\") as f:\n",
    "#    clean.to_csv(f, index=None, header=True)"
   ]
  },
  {
   "cell_type": "code",
   "execution_count": 20,
   "metadata": {},
   "outputs": [],
   "source": [
    "clean = pd.read_csv(\"../spsdata/all.csv\")\n",
    "clean = clean.round({\"age_precise\": 0})"
   ]
  },
  {
   "cell_type": "markdown",
   "metadata": {},
   "source": [
    "### Cleaner Data"
   ]
  },
  {
   "cell_type": "code",
   "execution_count": 44,
   "metadata": {},
   "outputs": [],
   "source": [
    "#test = clean.drop(columns=[\"index_runner\",\"side_runner\",\"square_runner\",\"python_tijd\",\"spel\",\"permutation\",\"round\",\"level\",\"times_level_played_before\",\"snelheid\",\"mabc_percentile_score\"])\n",
    "#test = test[[\"ID\",\"age_precise\",\"gender\",\"acc\",\"ax_f\",\"ay_f\",\"az_f\",\"costheta\",\"jerk\",\"label\"]]\n",
    "#with open(\"../spsdata/test_all.csv\", \"w\") as f:\n",
    "#    test.to_csv(f, header=True, index=None)"
   ]
  },
  {
   "cell_type": "code",
   "execution_count": 45,
   "metadata": {
    "scrolled": false
   },
   "outputs": [],
   "source": [
    "#test = pd.read_csv(\"../spsdata/test_all.csv\")\n",
    "#df = pd.DataFrame(dict((col,[]) for col in list(test)))\n",
    "#for i in test.ID.unique():\n",
    "#    lis = []\n",
    "#    for column in list(test):\n",
    "#        lis.append(test[test.ID == i][column].mean())\n",
    "#    row = pd.DataFrame([lis], columns=list(test))\n",
    "#    df = df.append(row, ignore_index = True)\n",
    "#df = df[[\"ID\",\"age_precise\",\"gender\",\"acc\",\"ax_f\",\"ay_f\",\"az_f\",\"costheta\",\"jerk\",\"label\"]]\n",
    "#with open('../spsdata/test.csv', 'w') as f:\n",
    "#        df.to_csv(f, header=True, index=None)"
   ]
  },
  {
   "cell_type": "code",
   "execution_count": 46,
   "metadata": {},
   "outputs": [],
   "source": [
    "#test = pd.read_csv(\"../spsdata/test_all.csv\")\n",
    "#new = test.drop(columns=[\"gender\",\"age_precise\"])\n",
    "#new = new[[\"ID\",\"acc\",\"ax_f\",\"ay_f\",\"az_f\",\"costheta\",\"jerk\",\"label\"]]\n",
    "#with open(\"../spsdata/new_all.csv\", \"w\") as f:\n",
    "#    new.to_csv(f, header=True, index=None)"
   ]
  },
  {
   "cell_type": "code",
   "execution_count": 47,
   "metadata": {
    "scrolled": true
   },
   "outputs": [],
   "source": [
    "#test = pd.read_csv(\"../spsdata/test.csv\")\n",
    "#new = test.drop(columns=[\"gender\",\"age_precise\"])\n",
    "#new = new[[\"ID\",\"acc\",\"ax_f\",\"ay_f\",\"az_f\",\"costheta\",\"jerk\",\"label\"]]\n",
    "#with open(\"../spsdata/new.csv\", \"w\") as f:\n",
    "#    new.to_csv(f, header=True, index=None)"
   ]
  },
  {
   "cell_type": "markdown",
   "metadata": {},
   "source": [
    "### Normalized Data"
   ]
  },
  {
   "cell_type": "code",
   "execution_count": 6,
   "metadata": {},
   "outputs": [],
   "source": [
    "data = pd.read_csv(\"new.csv\")\n",
    "cols = [\"acc\", \"ax_f\", \"ay_f\", \"az_f\", \"costheta\", \"jerk\"]\n",
    "for x in cols:\n",
    "    data[x] = data[x].abs() / data[x].abs().mean()\n",
    "with open(\"normalized.csv\", \"w\") as f:\n",
    "    data.to_csv(f, index=None, header=True)"
   ]
  },
  {
   "cell_type": "markdown",
   "metadata": {},
   "source": [
    "## Means and Variance"
   ]
  },
  {
   "cell_type": "code",
   "execution_count": 6,
   "metadata": {},
   "outputs": [],
   "source": [
    "noprobs = clean[clean[\"mabc_binary_score\"] == 0]"
   ]
  },
  {
   "cell_type": "code",
   "execution_count": 7,
   "metadata": {},
   "outputs": [
    {
     "name": "stdout",
     "output_type": "stream",
     "text": [
      "Kids with no fine motor skills problems:\n",
      "\n",
      "Mean of jerk: 1.57260308877\n",
      "Mean of acceleration: 9.76735986693\n",
      "Mean of costheta: 0.826624670792\n",
      "Variance of jerk: 3.81560658853\n",
      "Variance of acceleration: 0.175539397098\n",
      "Variance of costheta: 0.045394401657\n"
     ]
    }
   ],
   "source": [
    "mjerk0 = noprobs[\"jerk\"].mean()\n",
    "macc0 = noprobs[\"acc\"].mean()\n",
    "mcostheta0 = noprobs[\"costheta\"].mean()\n",
    "vjerk0 = noprobs[\"jerk\"].var()\n",
    "vacc0 = noprobs[\"acc\"].var()\n",
    "vcostheta0 = noprobs[\"costheta\"].var()\n",
    "print(\"Kids with no fine motor skills problems:\\n\")\n",
    "print(\"Mean of jerk: {}\".format(mjerk0))\n",
    "print(\"Mean of acceleration: {}\".format(macc0))\n",
    "print(\"Mean of costheta: {}\".format(mcostheta0))\n",
    "print(\"Variance of jerk: {}\".format(vjerk0))\n",
    "print(\"Variance of acceleration: {}\".format(vacc0))\n",
    "print(\"Variance of costheta: {}\".format(vcostheta0))"
   ]
  },
  {
   "cell_type": "code",
   "execution_count": 8,
   "metadata": {},
   "outputs": [],
   "source": [
    "probs = clean[clean[\"mabc_binary_score\"] == 1]"
   ]
  },
  {
   "cell_type": "code",
   "execution_count": 9,
   "metadata": {
    "scrolled": true
   },
   "outputs": [
    {
     "name": "stdout",
     "output_type": "stream",
     "text": [
      "Kids with fine motor skills problems:\n",
      "\n",
      "Mean of jerk: 1.63608224209\n",
      "Mean of acceleration: 9.75603166279\n",
      "Mean of costheta: 0.773176191018\n",
      "Variance of jerk: 4.59023885092\n",
      "Variance of acceleration: 0.186154929647\n",
      "Variance of costheta: 0.0764082927118\n"
     ]
    }
   ],
   "source": [
    "mjerk1 = probs[\"jerk\"].mean()\n",
    "macc1 = probs[\"acc\"].mean()\n",
    "mcostheta1 = probs[\"costheta\"].mean()\n",
    "vjerk1 = probs[\"jerk\"].var()\n",
    "vacc1 = probs[\"acc\"].var()\n",
    "vcostheta1 = probs[\"costheta\"].var()\n",
    "print(\"Kids with fine motor skills problems:\\n\")\n",
    "print(\"Mean of jerk: {}\".format(mjerk1))\n",
    "print(\"Mean of acceleration: {}\".format(macc1))\n",
    "print(\"Mean of costheta: {}\".format(mcostheta1))\n",
    "print(\"Variance of jerk: {}\".format(vjerk1))\n",
    "print(\"Variance of acceleration: {}\".format(vacc1))\n",
    "print(\"Variance of costheta: {}\".format(vcostheta1))"
   ]
  },
  {
   "cell_type": "markdown",
   "metadata": {},
   "source": [
    "## Plots"
   ]
  },
  {
   "cell_type": "code",
   "execution_count": 12,
   "metadata": {
    "scrolled": true
   },
   "outputs": [
    {
     "data": {
      "image/png": "[encoded data removed]",
      "text/plain": [
       "<Figure size 432x288 with 1 Axes>"
      ]
     },
     "metadata": {},
     "output_type": "display_data"
    },
    {
     "data": {
      "image/png": "[encoded data removed]",
      "text/plain": [
       "<Figure size 432x288 with 1 Axes>"
      ]
     },
     "metadata": {},
     "output_type": "display_data"
    },
    {
     "data": {
      "image/png": "[encoded data removed]",
      "text/plain": [
       "<Figure size 432x288 with 1 Axes>"
      ]
     },
     "metadata": {},
     "output_type": "display_data"
    }
   ],
   "source": [
    "acceleration = []\n",
    "jerk = []\n",
    "costheta = []\n",
    "labels = []\n",
    "for i in rr.ID.unique():\n",
    "    acceleration.append(clean[clean.ID == i][\"acc\"].mean())\n",
    "    jerk.append(clean[clean.ID == i][\"jerk\"].mean())\n",
    "    costheta.append(clean[clean.ID == i][\"costheta\"].mean())\n",
    "    labels.append(clean[clean.ID == i][\"mabc_binary_score\"].mean())\n",
    "plt.scatter(acceleration, jerk, c=[\"red\" if label == 0 else \"blue\" for label in labels])\n",
    "plt.xlabel(\"acceleration\")\n",
    "plt.ylabel(\"jerk\")\n",
    "plt.show()\n",
    "plt.scatter(costheta, acceleration, c=[\"red\" if label == 0 else \"blue\" for label in labels])\n",
    "plt.xlabel(\"costheta\")\n",
    "plt.ylabel(\"acceleraion\")\n",
    "plt.show()\n",
    "plt.scatter(costheta, jerk, c=[\"red\" if label == 0 else \"blue\" for label in labels])\n",
    "plt.xlabel(\"costheta\")\n",
    "plt.ylabel(\"jerk\")\n",
    "plt.show()"
   ]
  },
  {
   "cell_type": "markdown",
   "metadata": {},
   "source": [
    "## Support Vector Machine"
   ]
  },
  {
   "cell_type": "code",
   "execution_count": 13,
   "metadata": {},
   "outputs": [
    {
     "name": "stdout",
     "output_type": "stream",
     "text": [
      "0.413793103448\n"
     ]
    }
   ],
   "source": [
    "from sklearn.svm import SVC\n",
    "import random\n",
    "\n",
    "split = 0.7\n",
    "lis = []\n",
    "for i in clean.ID.unique():\n",
    "    elem = []\n",
    "    elem.append(clean[clean.ID == i][\"acc\"].mean())\n",
    "    elem.append(clean[clean.ID == i][\"jerk\"].mean())\n",
    "    elem.append(clean[clean.ID == i][\"costheta\"].mean())\n",
    "    elem.append(clean[clean.ID == i][\"mabc_binary_score\"].mean())\n",
    "    lis.append(elem)\n",
    "    \n",
    "random.shuffle(lis)\n",
    "z = int(0.7*len(lis))\n",
    "val = lis[:z]\n",
    "test = lis[z:]\n",
    "\n",
    "xval = []\n",
    "yval = []\n",
    "for item in val:\n",
    "    xval.append(item[:-1])\n",
    "    yval.append(item[-1])\n",
    "xtes = []\n",
    "ytes = []\n",
    "for item in test:\n",
    "    xtes.append(item[:-1])\n",
    "    ytes.append(item[-1])\n",
    "\n",
    "clf = SVC(gamma='scale')\n",
    "clf.fit(xval, yval)  \n",
    "SVC(C=1.0, cache_size=200, class_weight=None, coef0=0.0,\n",
    "    decision_function_shape='ovr', degree=3, gamma='scale', kernel='rbf',\n",
    "    max_iter=-1, probability=False, random_state=None, shrinking=True,\n",
    "    tol=0.001, verbose=False)\n",
    "k = 0\n",
    "n = len(ytes)\n",
    "for i in range(n):\n",
    "    label = ytes[i]\n",
    "    guess = clf.predict([xtes[i]])\n",
    "    if label == guess:\n",
    "        k += 1\n",
    "print(k / float(n))"
   ]
  }
 ],
 "metadata": {
  "kernelspec": {
   "display_name": "Python 3",
   "language": "python",
   "name": "python3"
  },
  "language_info": {
   "codemirror_mode": {
    "name": "ipython",
    "version": 3
   },
   "file_extension": ".py",
   "mimetype": "text/x-python",
   "name": "python",
   "nbconvert_exporter": "python",
   "pygments_lexer": "ipython3",
   "version": "3.7.1"
  }
 },
 "nbformat": 4,
 "nbformat_minor": 2
}
