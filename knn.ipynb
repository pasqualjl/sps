{
 "cells": [
  {
   "cell_type": "code",
   "execution_count": 2,
   "metadata": {},
   "outputs": [],
   "source": [
    "import math\n",
    "import random\n",
    "import pandas as pd\n",
    "import matplotlib.pylab as plt\n",
    "import numpy as np\n",
    "from sklearn.model_selection import train_test_split\n",
    "import operator"
   ]
  },
  {
   "cell_type": "code",
   "execution_count": 3,
   "metadata": {},
   "outputs": [],
   "source": [
    "data = pd.read_csv(\"normalized.csv\")"
   ]
  },
  {
   "cell_type": "code",
   "execution_count": 4,
   "metadata": {},
   "outputs": [],
   "source": [
    "acc = 1\n",
    "ax_f = 2\n",
    "ay_f = 3\n",
    "az_f = 4\n",
    "costheta = 5\n",
    "jerk = 6\n",
    "label = 7"
   ]
  },
  {
   "cell_type": "code",
   "execution_count": 5,
   "metadata": {},
   "outputs": [],
   "source": [
    "# compute distance between points\n",
    "def distance(a, b):\n",
    "    #if type(a) == list:\n",
    "       # temp = 0\n",
    "      #  for i in range(len(a)):\n",
    "     #       temp += (a[i] - b[i])**2\n",
    "    #else:\n",
    "     #   temp = (a - b)**2\n",
    "    #return math.sqrt(temp)\n",
    "    dot_product = np.dot(a, b)\n",
    "    norm_a = np.linalg.norm(a)\n",
    "    norm_b = np.linalg.norm(b)\n",
    "    return dot_product / (norm_a * norm_b)"
   ]
  },
  {
   "cell_type": "code",
   "execution_count": 6,
   "metadata": {},
   "outputs": [],
   "source": [
    "# compute k-nearest neighbours\n",
    "def neighbours(train, point, k, var):\n",
    "    distances = []\n",
    "    for x in range(len(train)):\n",
    "        totaldis = 0\n",
    "        for y in var:\n",
    "            dis = y[1] * distance(point[y[0]], train.iloc[x][y[0]])\n",
    "            totaldis += dis\n",
    "        distances.append((train.iloc[x], totaldis))\n",
    "    distances.sort(key=operator.itemgetter(1))\n",
    "    neighbors = []\n",
    "    for x in range(k):\n",
    "        neighbors.append(distances[x][0])\n",
    "    return neighbors\n",
    "\n",
    "# print(neighbours(train, test.iloc[0], 3))"
   ]
  },
  {
   "cell_type": "code",
   "execution_count": 7,
   "metadata": {},
   "outputs": [],
   "source": [
    "# get label\n",
    "def label(train, point, k, var):\n",
    "    n = neighbours(train, point, k, var)\n",
    "    s = 0\n",
    "    for i in range(len(n)):\n",
    "        s += n[i][7]\n",
    "    if s / float(len(n)) > 0.5:\n",
    "        return 1\n",
    "    else:\n",
    "        return 0\n",
    "    \n",
    "# print(label(train, test.iloc[0], 3))"
   ]
  },
  {
   "cell_type": "code",
   "execution_count": 8,
   "metadata": {},
   "outputs": [],
   "source": [
    "# get score\n",
    "def score(train, test, k, var):\n",
    "    t = 0\n",
    "    for i in range(len(test)):\n",
    "        predict = label(train, test.iloc[i], k, var)\n",
    "        true = test.iloc[i][7]\n",
    "        if predict == true:\n",
    "            t += 1\n",
    "    return t / float(len(test))\n",
    "\n",
    "# print(score(train, test, 3))"
   ]
  },
  {
   "cell_type": "code",
   "execution_count": null,
   "metadata": {},
   "outputs": [],
   "source": [
    "def k_nearest_neighbours(data, split, k, n, var):\n",
    "    total = 0\n",
    "    for i in range(n):\n",
    "        train, test = train_test_split(data, test_size=split)\n",
    "        s = score(train, test, k, var)\n",
    "        total += s\n",
    "        print(s)\n",
    "    return \"Mean is \" + str(total/float(n))"
   ]
  },
  {
   "cell_type": "code",
   "execution_count": null,
   "metadata": {},
   "outputs": [
    {
     "name": "stdout",
     "output_type": "stream",
     "text": [
      "0.413793103448\n",
      "0.51724137931\n",
      "0.379310344828\n",
      "0.51724137931\n",
      "0.551724137931\n"
     ]
    }
   ],
   "source": [
    "print(k_nearest_neighbours(data, 0.3, 7, 10, [(costheta, 0.2), (jerk, 0.2), (ax_f, 0.2), (ay_f, 0.2), (az_f, 0.2)]))\n",
    "print(k_nearest_neighbours(data, 0.3, 7, 10, [(costheta, 1)]))"
   ]
  }
 ],
 "metadata": {
  "kernelspec": {
   "display_name": "Python 3",
   "language": "python",
   "name": "python3"
  },
  "language_info": {
   "codemirror_mode": {
    "name": "ipython",
    "version": 2
   },
   "file_extension": ".py",
   "mimetype": "text/x-python",
   "name": "python",
   "nbconvert_exporter": "python",
   "pygments_lexer": "ipython2",
   "version": "2.7.12"
  }
 },
 "nbformat": 4,
 "nbformat_minor": 2
}
