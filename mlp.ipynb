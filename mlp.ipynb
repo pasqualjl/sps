{
 "cells": [
  {
   "cell_type": "code",
   "execution_count": 1,
   "metadata": {},
   "outputs": [],
   "source": [
    "import numpy as np\n",
    "import pandas as pd\n",
    "import sklearn\n",
    "from sklearn.neural_network import MLPClassifier\n",
    "from sklearn.metrics import accuracy_score"
   ]
  },
  {
   "cell_type": "code",
   "execution_count": 2,
   "metadata": {},
   "outputs": [],
   "source": [
    "def split(data, ratio):\n",
    "    np.random.shuffle(data)\n",
    "    train = data[int(len(data)*ratio):]\n",
    "    test = data[:int(len(data)*ratio)]\n",
    "    xtrain = [item[:-1] for item in train]\n",
    "    ytrain = [item[-1] for item in train]\n",
    "    xtest = [item[:-1] for item in test]\n",
    "    ytest = [item[-1] for item in test]\n",
    "    return xtrain, ytrain, xtest, ytest"
   ]
  },
  {
   "cell_type": "code",
   "execution_count": 5,
   "metadata": {},
   "outputs": [],
   "source": [
    "def mlp(data, ratio):\n",
    "    xtrain, ytrain, xtest, ytest = split(data, ratio)\n",
    "    clf = MLPClassifier()\n",
    "    clf.fit(xtrain, ytrain)\n",
    "    ypred = clf.predict(xtest)\n",
    "    lis = [(ytest[i], ypred[i]) for i in range(len(ytest))]\n",
    "    #print lis\n",
    "    acc = accuracy_score(ytest, ypred)\n",
    "    return acc"
   ]
  },
  {
   "cell_type": "code",
   "execution_count": null,
   "metadata": {},
   "outputs": [],
   "source": [
    "print(mlp())"
   ]
  }
 ],
 "metadata": {
  "kernelspec": {
   "display_name": "Python 3",
   "language": "python",
   "name": "python3"
  },
  "language_info": {
   "codemirror_mode": {
    "name": "ipython",
    "version": 2
   },
   "file_extension": ".py",
   "mimetype": "text/x-python",
   "name": "python",
   "nbconvert_exporter": "python",
   "pygments_lexer": "ipython2",
   "version": "2.7.12"
  }
 },
 "nbformat": 4,
 "nbformat_minor": 2
}
