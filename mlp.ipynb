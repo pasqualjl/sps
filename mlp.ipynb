{
 "cells": [
  {
   "cell_type": "code",
   "execution_count": 86,
   "metadata": {},
   "outputs": [],
   "source": [
    "import numpy as np\n",
    "import pandas as pd\n",
    "import sklearn\n",
    "from sklearn.neural_network import MLPClassifier\n",
    "from sklearn.metrics import accuracy_score\n",
    "from sklearn.model_selection import train_test_split"
   ]
  },
  {
   "cell_type": "code",
   "execution_count": 87,
   "metadata": {},
   "outputs": [],
   "source": [
    "# means per kid: sensordata\n",
    "data = pd.read_csv(\"../spsdata/new.csv\")"
   ]
  },
  {
   "cell_type": "code",
   "execution_count": 88,
   "metadata": {},
   "outputs": [],
   "source": [
    "# means per kid: sensordata, age, gender\n",
    "data2 = pd.read_csv(\"../spsdata/test.csv\")"
   ]
  },
  {
   "cell_type": "code",
   "execution_count": 89,
   "metadata": {},
   "outputs": [],
   "source": [
    "# all rows: sensordata\n",
    "data3 = pd.read_csv(\"../spsdata/new_all.csv\")"
   ]
  },
  {
   "cell_type": "code",
   "execution_count": 90,
   "metadata": {},
   "outputs": [],
   "source": [
    "# all rows: sensordata, age, gender\n",
    "data4 = pd.read_csv(\"../spsdata/test_all.csv\")"
   ]
  },
  {
   "cell_type": "code",
   "execution_count": 91,
   "metadata": {},
   "outputs": [],
   "source": [
    "def split(data, ratio):\n",
    "    np.random.shuffle(data)\n",
    "    train = data[int(len(data)*ratio):]\n",
    "    test = data[:int(len(data)*ratio)]\n",
    "    xtrain = [item[:-1] for item in train]\n",
    "    ytrain = [item[-1] for item in train]\n",
    "    xtest = [item[:-1] for item in test]\n",
    "    ytest = [item[-1] for item in test]\n",
    "    return xtrain, ytrain, xtest, ytest"
   ]
  },
  {
   "cell_type": "code",
   "execution_count": 92,
   "metadata": {},
   "outputs": [],
   "source": [
    "def mlp(data, ratio):\n",
    "    xtrain, xtest, ytrain, ytest = train_test_split(data.drop(columns=[\"ID\",\"label\"]), data[\"label\"])\n",
    "    clf = MLPClassifier()\n",
    "    clf.fit(xtrain, ytrain)\n",
    "    ypred = clf.predict(xtest)\n",
    "    acc = accuracy_score(ytest, ypred)\n",
    "    return acc * 100"
   ]
  },
  {
   "cell_type": "code",
   "execution_count": 93,
   "metadata": {},
   "outputs": [],
   "source": [
    "# run mlp n times\n",
    "# gives average accuracy\n",
    "\n",
    "def run(n, data, ratio):\n",
    "    total = 0\n",
    "    for i in range(n):\n",
    "        score = mlp(data, ratio)\n",
    "        # print(\"{} %\".format(round(score, 2)))\n",
    "        total += score\n",
    "    return \"Average accuracy is \" + str(total/float(n)) + \" %\""
   ]
  },
  {
   "cell_type": "code",
   "execution_count": 95,
   "metadata": {},
   "outputs": [
    {
     "name": "stdout",
     "output_type": "stream",
     "text": [
      "Average accuracy is 51.26666666666666 %\n"
     ]
    }
   ],
   "source": [
    "print(run(500, data, 0.2))"
   ]
  },
  {
   "cell_type": "code",
   "execution_count": 96,
   "metadata": {},
   "outputs": [],
   "source": [
    "def split(data, ratio):\n",
    "    ugh = []\n",
    "    for i in data.ID.unique():\n",
    "        ugh.append(data[data[\"ID\"] == i])\n",
    "    np.random.shuffle(ugh)\n",
    "    trainlist = ugh[int(len(ugh)*ratio):]\n",
    "    testlist = ugh[:int(len(ugh)*ratio)]\n",
    "    train = pd.DataFrame(dict((col,[]) for col in list(data)))\n",
    "    test = pd.DataFrame(dict((col,[]) for col in list(data)))\n",
    "    for item in trainlist:\n",
    "        train = train.append(item, ignore_index = True)\n",
    "    xtrain = train.drop(columns=[\"ID\",\"label\"])\n",
    "    ytrain = train[\"label\"]\n",
    "    for item in testlist:\n",
    "        test = test.append(item, ignore_index = True)\n",
    "    xtest = test.drop(columns=[\"ID\",\"label\"])\n",
    "    ytest = test.set_index(\"ID\")[\"label\"]\n",
    "    return xtrain, xtest, ytrain, ytest"
   ]
  },
  {
   "cell_type": "code",
   "execution_count": 99,
   "metadata": {},
   "outputs": [],
   "source": [
    "def mlp_complex(data, ratio):\n",
    "    print(\"splitting data...\")\n",
    "    xtrain, xtest, ytrain, ytest = split(data, ratio)\n",
    "    print(\"creating mlp...\")\n",
    "    clf = MLPClassifier()\n",
    "    print(\"training mlp...\")\n",
    "    clf.fit(xtrain, ytrain)\n",
    "    print(\"getting predictions...\")\n",
    "    ypred = clf.predict(xtest)\n",
    "    print(\"calculating accuracy...\")\n",
    "    acc = accuracy_score(ytest, ypred)\n",
    "    return acc * 100"
   ]
  },
  {
   "cell_type": "code",
   "execution_count": null,
   "metadata": {},
   "outputs": [
    {
     "name": "stdout",
     "output_type": "stream",
     "text": [
      "splitting data...\n",
      "creating mlp...\n",
      "training mlp...\n"
     ]
    }
   ],
   "source": [
    "print(mlp_complex(data3, 0.5))"
   ]
  }
 ],
 "metadata": {
  "kernelspec": {
   "display_name": "Python 3",
   "language": "python",
   "name": "python3"
  },
  "language_info": {
   "codemirror_mode": {
    "name": "ipython",
    "version": 2
   },
   "file_extension": ".py",
   "mimetype": "text/x-python",
   "name": "python",
   "nbconvert_exporter": "python",
   "pygments_lexer": "ipython2",
   "version": "2.7.12"
  }
 },
 "nbformat": 4,
 "nbformat_minor": 2
}
