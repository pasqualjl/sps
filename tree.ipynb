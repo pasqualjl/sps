{
 "cells": [
  {
   "cell_type": "markdown",
   "metadata": {},
   "source": [
    "# Decision Trees"
   ]
  },
  {
   "cell_type": "code",
   "execution_count": 4,
   "metadata": {},
   "outputs": [],
   "source": [
    "import numpy as np\n",
    "import pandas as pd\n",
    "import sklearn\n",
    "from sklearn.model_selection import train_test_split\n",
    "from sklearn.tree import DecisionTreeClassifier\n",
    "from sklearn.metrics import accuracy_score\n",
    "from sklearn import tree"
   ]
  },
  {
   "cell_type": "code",
   "execution_count": 272,
   "metadata": {},
   "outputs": [],
   "source": [
    "# means per kid: sensordata\n",
    "\n",
    "d = pd.read_csv(\"new.csv\")\n",
    "data = d.set_index(\"ID\")"
   ]
  },
  {
   "cell_type": "code",
   "execution_count": 139,
   "metadata": {},
   "outputs": [],
   "source": [
    "# means per kid: sensordata, age, gender\n",
    "\n",
    "data2 = pd.read_csv(\"../spsdata/test.csv\")"
   ]
  },
  {
   "cell_type": "code",
   "execution_count": 275,
   "metadata": {},
   "outputs": [],
   "source": [
    "# all rows: sensordata\n",
    "\n",
    "d3 = pd.read_csv(\"../spsdata/new_all.csv\")\n",
    "data3 = d3.set_index(\"ID\")"
   ]
  },
  {
   "cell_type": "code",
   "execution_count": 143,
   "metadata": {},
   "outputs": [],
   "source": [
    "# all rows: sensordata, age, gender\n",
    "\n",
    "df = pd.read_csv(\"../spsdata/roadrunner.csv\")\n",
    "clean = df.drop(columns=[\"index_runner\",\"side_runner\",\"square_runner\",\"python_tijd\",\"spel\",\"permutation\",\"round\",\"level\",\"times_level_played_before\",\"snelheid\",\"mabc_percentile_score\"])\n",
    "data4 = clean.round({\"age_precise\": 0})"
   ]
  },
  {
   "cell_type": "code",
   "execution_count": 138,
   "metadata": {},
   "outputs": [],
   "source": [
    "df = pd.DataFrame({\"ID\": [],\"acc\": [],\"ax_f\": [],\"ay_f\": [],\"az_f\": [],\"costheta\": [],\"jerk\": [],\"label\": [],\"gender\": [],\"age_precise\": []})\n",
    "for i in clean.ID.unique():\n",
    "    row = data3[data3[\"ID\"] == i].mean()\n",
    "    df = df.append(row, ignore_index = True)\n",
    "with open('../spsdata/test.csv', 'w') as f:\n",
    "    df.to_csv(f, header=True, index=None)"
   ]
  },
  {
   "cell_type": "code",
   "execution_count": 299,
   "metadata": {},
   "outputs": [],
   "source": [
    "# decision tree\n",
    "\n",
    "def decision_tree(data):\n",
    "    #print(\"\\n\\nsplitting...\")\n",
    "    xtrain, xtest, ytrain, ytest = train_test_split(data.drop(columns=[\"label\"]), data[\"label\"])\n",
    "    df = ytest\n",
    "    print(df)\n",
    "    with open(\"hype.csv\", \"w\") as f:\n",
    "        df.to_csv(f, header=True, index=True)\n",
    "    #foo = pd.read_csv(\"../spsdata/hype.csv\")\n",
    "    #print(foo)\n",
    "    #print(\"making tree...\")\n",
    "    #dtree = DecisionTreeClassifier()\n",
    "    #print(\"training tree...\")\n",
    "    #dtree.fit(xtrain, ytrain)\n",
    "    #print(\"getting predictions...\")\n",
    "    #ypred = dtree.predict(xtest)\n",
    "    #se = pd.Series(ypred)\n",
    "    #df['predict'] = se.values\n",
    "    #print(df)\n",
    "    #print(ypred)\n",
    "    #print(\"calculating accuracy...\\n\")\n",
    "    #acc = accuracy_score(ytest,ypred)\n",
    "    #return acc * 100"
   ]
  },
  {
   "cell_type": "code",
   "execution_count": 295,
   "metadata": {},
   "outputs": [],
   "source": [
    "# run decision tree n times\n",
    "# gives average accuracy\n",
    "\n",
    "def run(n, data):\n",
    "    total = 0\n",
    "    for i in range(n):\n",
    "        score = decision_tree(data)\n",
    "        #print(\"{} %\".format(round(score, 2)))\n",
    "        total += score\n",
    "    print(\"Average accuracy is {} %\".format(total/float(n)))"
   ]
  },
  {
   "cell_type": "code",
   "execution_count": 300,
   "metadata": {
    "scrolled": false
   },
   "outputs": [
    {
     "name": "stdout",
     "output_type": "stream",
     "text": [
      "ID\n",
      "327    0\n",
      "332    0\n",
      "231    0\n",
      "337    1\n",
      "322    0\n",
      "353    1\n",
      "205    1\n",
      "336    0\n",
      "133    1\n",
      "319    0\n",
      "345    0\n",
      "223    1\n",
      "314    1\n",
      "316    1\n",
      "345    0\n",
      "302    0\n",
      "110    1\n",
      "191    0\n",
      "354    0\n",
      "105    1\n",
      "332    0\n",
      "338    0\n",
      "120    1\n",
      "135    1\n",
      "332    0\n",
      "191    0\n",
      "207    1\n",
      "316    1\n",
      "312    1\n",
      "334    0\n",
      "      ..\n",
      "343    1\n",
      "121    1\n",
      "121    1\n",
      "199    1\n",
      "348    1\n",
      "337    1\n",
      "336    0\n",
      "104    0\n",
      "230    0\n",
      "115    0\n",
      "333    0\n",
      "234    1\n",
      "230    0\n",
      "121    1\n",
      "111    0\n",
      "121    1\n",
      "105    1\n",
      "192    1\n",
      "349    0\n",
      "116    1\n",
      "120    1\n",
      "201    1\n",
      "231    0\n",
      "201    1\n",
      "353    1\n",
      "105    1\n",
      "338    0\n",
      "330    0\n",
      "340    0\n",
      "113    0\n",
      "Name: label, Length: 434328, dtype: int64\n"
     ]
    }
   ],
   "source": [
    "decision_tree(data3)"
   ]
  },
  {
   "cell_type": "code",
   "execution_count": 190,
   "metadata": {},
   "outputs": [
    {
     "name": "stdout",
     "output_type": "stream",
     "text": [
      "85.6910291497878\n"
     ]
    }
   ],
   "source": [
    "print(decision_tree(data4))"
   ]
  }
 ],
 "metadata": {
  "kernelspec": {
   "display_name": "Python 3",
   "language": "python",
   "name": "python3"
  },
  "language_info": {
   "codemirror_mode": {
    "name": "ipython",
    "version": 2
   },
   "file_extension": ".py",
   "mimetype": "text/x-python",
   "name": "python",
   "nbconvert_exporter": "python",
   "pygments_lexer": "ipython2",
   "version": "2.7.12"
  }
 },
 "nbformat": 4,
 "nbformat_minor": 2
}
